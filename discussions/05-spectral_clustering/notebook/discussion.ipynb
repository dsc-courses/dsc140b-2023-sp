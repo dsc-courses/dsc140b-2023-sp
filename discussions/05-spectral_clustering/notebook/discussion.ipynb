{
 "cells": [
  {
   "cell_type": "markdown",
   "metadata": {},
   "source": [
    "# Discussion 05\n",
    "\n",
    "## Laplacian Eigenmaps and Spectral Clustering"
   ]
  },
  {
   "cell_type": "markdown",
   "metadata": {},
   "source": [
    "Welcome to Discussion 05. In this discussion, we'll learn more about the eigenvectors of the graph Laplacian and introduce the idea of spectral clustering."
   ]
  },
  {
   "cell_type": "code",
   "execution_count": 1,
   "metadata": {},
   "outputs": [],
   "source": [
    "import numpy as np\n",
    "import matplotlib.pyplot as plt\n",
    "import sklearn.manifold\n",
    "\n",
    "plt.rcParams['figure.figsize'] = (7,7)"
   ]
  },
  {
   "cell_type": "markdown",
   "metadata": {},
   "source": [
    "**Question 01**. The matrix below represents the adjacency matrix of a graph. How many connected components does this graph have?"
   ]
  },
  {
   "cell_type": "code",
   "execution_count": 2,
   "metadata": {},
   "outputs": [],
   "source": [
    "top = np.hstack((\n",
    "    np.ones((4,4)), np.zeros((4,4))\n",
    "))\n",
    "A = np.vstack((\n",
    "    top, np.fliplr(top)\n",
    "))\n",
    "A"
   ]
  },
  {
   "cell_type": "code",
   "execution_count": 3,
   "metadata": {},
   "outputs": [],
   "source": [
    "# Visualizing the graph\n",
    "import networkx as nx\n",
    "G = nx.from_numpy_matrix(A)\n",
    "nx.draw(G)"
   ]
  },
  {
   "cell_type": "markdown",
   "metadata": {},
   "source": [
    "_Type your answer here, replacing this text._"
   ]
  },
  {
   "cell_type": "markdown",
   "metadata": {},
   "source": [
    "**Question 02**. Compute the graph Laplacian."
   ]
  },
  {
   "cell_type": "code",
   "execution_count": 4,
   "metadata": {},
   "outputs": [],
   "source": [
    "L = ...\n",
    "L"
   ]
  },
  {
   "cell_type": "markdown",
   "metadata": {},
   "source": [
    "**Question 03**. In class, we saw that the vector of all ones is an eigenvector of the graph Laplacian with eigenvalue zero. Show that this is the case."
   ]
  },
  {
   "cell_type": "code",
   "execution_count": null,
   "metadata": {},
   "outputs": [],
   "source": [
    "..."
   ]
  },
  {
   "cell_type": "markdown",
   "metadata": {},
   "source": [
    "**Question 04**. In this case there is more than one eigenvector with eigenvalue zero. Find another eigenvector, orthogonal to the vector of all ones, that has eigenvalue zero."
   ]
  },
  {
   "cell_type": "markdown",
   "metadata": {},
   "source": [
    "_Type your answer here, replacing this text._"
   ]
  },
  {
   "cell_type": "markdown",
   "metadata": {},
   "source": [
    "**Question 05**. How many eigenvalues of $L$ are zero? "
   ]
  },
  {
   "cell_type": "code",
   "execution_count": null,
   "metadata": {},
   "outputs": [],
   "source": [
    "...\n",
    "vals"
   ]
  },
  {
   "cell_type": "markdown",
   "metadata": {},
   "source": [
    "**Question 06**. Consider the problem of clustering the nodes of a graph. In the case of the graph above there are two \"obvious\" clusters: the two connected components.\n",
    "\n",
    "Let's look at a weighted fully-connected graph with added noise. It should also have two clusters, though it is hard to determine this:"
   ]
  },
  {
   "cell_type": "code",
   "execution_count": null,
   "metadata": {},
   "outputs": [],
   "source": [
    "W = (A + .2) / 1.4 + np.random.uniform(-.1, .1, (8,8))\n",
    "W = (W + W.T) / 2\n",
    "W"
   ]
  },
  {
   "cell_type": "code",
   "execution_count": null,
   "metadata": {},
   "outputs": [],
   "source": [
    "# Visualize the weighted graph\n",
    "Gw = nx.from_numpy_matrix(W)\n",
    "nx.draw(Gw)"
   ]
  },
  {
   "cell_type": "code",
   "execution_count": null,
   "metadata": {},
   "outputs": [],
   "source": [
    "# Visualize the graph with a spectral layout. Check the documentation to relate spectral_layout to what we studied \n",
    "# in the lecture.\n",
    "nx.draw_spectral(Gw)"
   ]
  },
  {
   "cell_type": "markdown",
   "metadata": {},
   "source": [
    "Embed the nodes of this graph into $\\mathbb R^2$ using Laplacian eigenmaps."
   ]
  },
  {
   "cell_type": "code",
   "execution_count": null,
   "metadata": {},
   "outputs": [],
   "source": [
    "embedding = ..."
   ]
  },
  {
   "cell_type": "code",
   "execution_count": null,
   "metadata": {},
   "outputs": [],
   "source": [
    "plt.scatter(*embedding.T)"
   ]
  },
  {
   "cell_type": "markdown",
   "metadata": {},
   "source": [
    "**Question 07**. Spectral clustering is a technique used to cluster the nodes of a weighted graph. It works by first embedding the nodes of the graph using Laplacian eigenmaps, then clusters the points in the news representation using any clustering algorithm that works for points.\n",
    "\n",
    "A popular clustering algorithm is $k$-means. It tries to find $k$ cluster centers which minimize the sum of squared distances from each point to it's nearest cluster center. Using `sklearn.cluster.KMeans`, run k-means on the embedding points with $k=2$ (to find two clusters). Verify that the cluster labels are as expected."
   ]
  },
  {
   "cell_type": "code",
   "execution_count": null,
   "metadata": {},
   "outputs": [],
   "source": [
    "..."
   ]
  },
  {
   "cell_type": "markdown",
   "metadata": {},
   "source": [
    "**Question 08**. Also, verify the embeddings you got from the `sklearn.manifold` library above by manually calculating them using bottom two eigenvectors with non-zero eigenvalues."
   ]
  },
  {
   "cell_type": "code",
   "execution_count": null,
   "metadata": {},
   "outputs": [],
   "source": [
    "..."
   ]
  }
 ],
 "metadata": {
  "kernelspec": {
   "display_name": "Python 3 (ipykernel)",
   "language": "python",
   "name": "python3"
  },
  "language_info": {
   "codemirror_mode": {
    "name": "ipython",
    "version": 3
   },
   "file_extension": ".py",
   "mimetype": "text/x-python",
   "name": "python",
   "nbconvert_exporter": "python",
   "pygments_lexer": "ipython3",
   "version": "3.9.11"
  }
 },
 "nbformat": 4,
 "nbformat_minor": 4
}
