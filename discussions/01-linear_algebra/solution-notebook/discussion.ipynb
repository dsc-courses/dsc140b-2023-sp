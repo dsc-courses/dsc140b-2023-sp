{
 "cells": [
  {
   "cell_type": "markdown",
   "metadata": {},
   "source": [
    "# Discussion 01"
   ]
  },
  {
   "cell_type": "markdown",
   "metadata": {},
   "source": [
    "Welcome to Discussion 01. In this discussion, we'll get more practice with linear algebra. In particular, we'll see how to do fundamental linear algebra operations in code with numpy."
   ]
  },
  {
   "cell_type": "code",
   "execution_count": 1,
   "metadata": {},
   "outputs": [],
   "source": [
    "import numpy as np\n",
    "import sklearn.datasets\n",
    "import matplotlib.pyplot as plt"
   ]
  },
  {
   "cell_type": "markdown",
   "metadata": {},
   "source": [
    "## Part 1. Basic vector math in numpy\n",
    "\n",
    "To begin, we need to know how to do basic vector math in numpy. To define a vector, we create a numpy array. For example, the vectors $\\vec x = (4, -2, 1)^T$ and $\\vec y = (1, 0, 5)^T$ are defined with:"
   ]
  },
  {
   "cell_type": "code",
   "execution_count": 11,
   "metadata": {},
   "outputs": [],
   "source": [
    "x = np.array([4, -2, 1])\n",
    "y = np.array([1, 0, 5])"
   ]
  },
  {
   "cell_type": "markdown",
   "metadata": {},
   "source": [
    "**Problem 01**. What is $\\vec x \\cdot \\vec y$? Compute your answer by hand."
   ]
  },
  {
   "cell_type": "code",
   "execution_count": 13,
   "metadata": {},
   "outputs": [
    {
     "data": {
      "text/plain": [
       "9"
      ]
     },
     "execution_count": 13,
     "metadata": {},
     "output_type": "execute_result"
    }
   ],
   "source": [
    "# BEGIN SOLUTION\n",
    "p01_answer = 4 * 1 + -2 * 0 + 1 * 5\n",
    "p01_answer\n",
    "# END SOLUTION"
   ]
  },
  {
   "cell_type": "markdown",
   "metadata": {},
   "source": [
    "Let's say we want to compute the dot product of $x$ and $y$ in numpy. The \"old\" way of doing this is to use the `.dot` method:"
   ]
  },
  {
   "cell_type": "code",
   "execution_count": 14,
   "metadata": {},
   "outputs": [
    {
     "data": {
      "text/plain": [
       "9"
      ]
     },
     "execution_count": 14,
     "metadata": {},
     "output_type": "execute_result"
    }
   ],
   "source": [
    "x.dot(y)"
   ]
  },
  {
   "cell_type": "markdown",
   "metadata": {},
   "source": [
    "But the more modern way of computing the dot product is to use the `@` operator:"
   ]
  },
  {
   "cell_type": "code",
   "execution_count": 15,
   "metadata": {},
   "outputs": [
    {
     "data": {
      "text/plain": [
       "9"
      ]
     },
     "execution_count": 15,
     "metadata": {},
     "output_type": "execute_result"
    }
   ],
   "source": [
    "x @ y"
   ]
  },
  {
   "cell_type": "markdown",
   "metadata": {},
   "source": [
    "To create a matrix, we make a two dimensional numpy array. For instance, to create the matrix\n",
    "\n",
    "$$\n",
    "A = \\begin{pmatrix}\n",
    "   3 & 8 & -2\\\\\n",
    "   2 & -1 & 1\\\\\n",
    "   4 & 0 & 0\n",
    "\\end{pmatrix}\n",
    "$$\n",
    "\n",
    "we write:"
   ]
  },
  {
   "cell_type": "code",
   "execution_count": 16,
   "metadata": {},
   "outputs": [],
   "source": [
    "A = np.array([\n",
    "    [3, 8, -2],\n",
    "    [2, -1, 1],\n",
    "    [4, 0, 0]\n",
    "])"
   ]
  },
  {
   "cell_type": "markdown",
   "metadata": {},
   "source": [
    "**Problem 02**. What is $A \\vec x$, where $\\vec x$ was defined above as $\\vec x = (4, -2, 1)^T$? Compute your answer by hand and write it as a numpy array."
   ]
  },
  {
   "cell_type": "code",
   "execution_count": 29,
   "metadata": {},
   "outputs": [
    {
     "data": {
      "text/plain": [
       "array([-6, 11, 16])"
      ]
     },
     "execution_count": 29,
     "metadata": {},
     "output_type": "execute_result"
    }
   ],
   "source": [
    "# BEGIN SOLUTION\n",
    "p01_answer = np.array([-6, 11, 16])\n",
    "p01_answer\n",
    "# END SOLUTION"
   ]
  },
  {
   "cell_type": "markdown",
   "metadata": {},
   "source": [
    "To compute the product $A\\vec  x$ in numpy, we can again use the `@` operator:"
   ]
  },
  {
   "cell_type": "code",
   "execution_count": 23,
   "metadata": {},
   "outputs": [
    {
     "data": {
      "text/plain": [
       "array([-6, 11, 16])"
      ]
     },
     "execution_count": 23,
     "metadata": {},
     "output_type": "execute_result"
    }
   ],
   "source": [
    "A @ x"
   ]
  },
  {
   "cell_type": "markdown",
   "metadata": {},
   "source": [
    "We can also multiply matrices with `@`:"
   ]
  },
  {
   "cell_type": "code",
   "execution_count": 24,
   "metadata": {},
   "outputs": [
    {
     "data": {
      "text/plain": [
       "array([[17, 16,  2],\n",
       "       [ 8, 17, -5],\n",
       "       [12, 32, -8]])"
      ]
     },
     "execution_count": 24,
     "metadata": {},
     "output_type": "execute_result"
    }
   ],
   "source": [
    "A @ A"
   ]
  },
  {
   "cell_type": "markdown",
   "metadata": {},
   "source": [
    "Note that numpy defaults to performing many operators in an \"elementwise\" fashion. For example, in math, the notation $A^2$ denotes the matrix $A A$, that is, the product of $A$ with itself. In Python, we can raise something to a power using the `**` operator. But if we write `A**2`, we do not get $A^2$:"
   ]
  },
  {
   "cell_type": "code",
   "execution_count": 25,
   "metadata": {},
   "outputs": [
    {
     "data": {
      "text/plain": [
       "array([[ 9, 64,  4],\n",
       "       [ 4,  1,  1],\n",
       "       [16,  0,  0]])"
      ]
     },
     "execution_count": 25,
     "metadata": {},
     "output_type": "execute_result"
    }
   ],
   "source": [
    "A**2"
   ]
  },
  {
   "cell_type": "markdown",
   "metadata": {},
   "source": [
    "Numpy has instead squared each element of $A$. This is something to watch out for!"
   ]
  },
  {
   "cell_type": "markdown",
   "metadata": {},
   "source": [
    "**Problem 03**. Try computing `A * x`. In words, what does it compute?"
   ]
  },
  {
   "cell_type": "code",
   "execution_count": 37,
   "metadata": {},
   "outputs": [
    {
     "name": "stdout",
     "output_type": "stream",
     "text": [
      "It multiplies everything in the first column of A by 4, everything in the\n",
      "second column by -2, and everything in the last column by 1.\n"
     ]
    }
   ],
   "source": [
    "# BEGIN SOLUTION\n",
    "print(\n",
    "    \"It multiplies everything in the first column of A by 4, everything in the\\n\"\n",
    "    \"second column by -2, and everything in the last column by 1.\"\n",
    ")\n",
    "# END SOLUTION"
   ]
  },
  {
   "cell_type": "markdown",
   "metadata": {},
   "source": [
    "We can transpose a matrix with `.T`:"
   ]
  },
  {
   "cell_type": "code",
   "execution_count": 38,
   "metadata": {},
   "outputs": [
    {
     "data": {
      "text/plain": [
       "array([[ 3,  8, -2],\n",
       "       [ 2, -1,  1],\n",
       "       [ 4,  0,  0]])"
      ]
     },
     "execution_count": 38,
     "metadata": {},
     "output_type": "execute_result"
    }
   ],
   "source": [
    "A"
   ]
  },
  {
   "cell_type": "code",
   "execution_count": 39,
   "metadata": {},
   "outputs": [
    {
     "data": {
      "text/plain": [
       "array([[ 3,  2,  4],\n",
       "       [ 8, -1,  0],\n",
       "       [-2,  1,  0]])"
      ]
     },
     "execution_count": 39,
     "metadata": {},
     "output_type": "execute_result"
    }
   ],
   "source": [
    "A.T"
   ]
  },
  {
   "cell_type": "markdown",
   "metadata": {},
   "source": [
    "Note that if we try to transpose a vector, nothing happens:"
   ]
  },
  {
   "cell_type": "code",
   "execution_count": 40,
   "metadata": {},
   "outputs": [
    {
     "data": {
      "text/plain": [
       "array([ 4, -2,  1])"
      ]
     },
     "execution_count": 40,
     "metadata": {},
     "output_type": "execute_result"
    }
   ],
   "source": [
    "x"
   ]
  },
  {
   "cell_type": "code",
   "execution_count": 41,
   "metadata": {},
   "outputs": [
    {
     "data": {
      "text/plain": [
       "array([ 4, -2,  1])"
      ]
     },
     "execution_count": 41,
     "metadata": {},
     "output_type": "execute_result"
    }
   ],
   "source": [
    "x.T"
   ]
  },
  {
   "cell_type": "markdown",
   "metadata": {},
   "source": [
    "In math, we often work with \"column vectors\", and transposing a column vector turns it into a \"row\" vector. Numpy 1-d arrays do not distinguish between column vectors and row vectors. This is usually just fine, and is quite convenient.\n",
    "\n",
    "If you *really* want to distinguish between row and column vectors, you need to turn your 1-d array into a 2-d array. One way to do this is with `np.reshape`. The second argument is the new shape of the array:"
   ]
  },
  {
   "cell_type": "code",
   "execution_count": 49,
   "metadata": {},
   "outputs": [
    {
     "data": {
      "text/plain": [
       "array([[ 4],\n",
       "       [-2],\n",
       "       [ 1]])"
      ]
     },
     "execution_count": 49,
     "metadata": {},
     "output_type": "execute_result"
    }
   ],
   "source": [
    "np.reshape(x, (3, 1))"
   ]
  },
  {
   "cell_type": "markdown",
   "metadata": {},
   "source": [
    "A shorthand is to slice the array with `None` as the second argument:"
   ]
  },
  {
   "cell_type": "code",
   "execution_count": 50,
   "metadata": {},
   "outputs": [
    {
     "data": {
      "text/plain": [
       "array([[ 4],\n",
       "       [-2],\n",
       "       [ 1]])"
      ]
     },
     "execution_count": 50,
     "metadata": {},
     "output_type": "execute_result"
    }
   ],
   "source": [
    "x[:, None]"
   ]
  },
  {
   "cell_type": "markdown",
   "metadata": {},
   "source": [
    "Lastly, numpy comes with a variety of linear algebra functions in the `np.linalg` module. It is worth exploring the [documentation](https://numpy.org/doc/stable/reference/routines.linalg.html).\n",
    "\n",
    "One function that may come in handy is `np.linalg.norm`, which computes the norm of a vector (by default, the Euclidean norm, i.e., the length)."
   ]
  },
  {
   "cell_type": "code",
   "execution_count": 51,
   "metadata": {},
   "outputs": [
    {
     "data": {
      "text/plain": [
       "4.58257569495584"
      ]
     },
     "execution_count": 51,
     "metadata": {},
     "output_type": "execute_result"
    }
   ],
   "source": [
    "np.linalg.norm(x)"
   ]
  },
  {
   "cell_type": "markdown",
   "metadata": {},
   "source": [
    "We can use this to normalize a vector into a unit vector:"
   ]
  },
  {
   "cell_type": "code",
   "execution_count": 53,
   "metadata": {},
   "outputs": [
    {
     "data": {
      "text/plain": [
       "array([ 0.87287156, -0.43643578,  0.21821789])"
      ]
     },
     "execution_count": 53,
     "metadata": {},
     "output_type": "execute_result"
    }
   ],
   "source": [
    "u = x / np.linalg.norm(x)\n",
    "u"
   ]
  },
  {
   "cell_type": "markdown",
   "metadata": {},
   "source": [
    "## Part 2. Changing basis\n",
    "\n",
    "In lecture, we saw that we can use the dot product to change basis (as long as the new basis is an orthonormal basis). In particular, if $\\mathcal U = \\{ \\hat u^{(1)}, \\hat u^{(2)}, \\ldots, \\hat u^{(d)} \\}$, and $\\vec x$ is a vector, then $[\\vec x]_\\mathcal{U} = ( \\vec x \\cdot \\hat u^{(1)},  \\vec x \\cdot \\hat u^{(2)}, \\ldots, \\vec x \\cdot \\hat u^{(d)} )^T$."
   ]
  },
  {
   "cell_type": "markdown",
   "metadata": {},
   "source": [
    "**Problem 01.** Let\n",
    "$$\\vec u^{(1)} = (1, 1, 0)^T$$\n",
    "$$\\vec u^{(2)} = (-1, 1, 0)^T$$\n",
    "$$\\vec u^{(3)} = (0, 0, 1)^T$$\n",
    "\n",
    "These vectors are mutually orthogonal, but they are not all unit vectors, and so they do not form an orthonormal basis.\n",
    "\n",
    "Define numpy arrays `u_1`, `u_2`, and `u_3` by normalizing the above vectors, thereby making them an orthonormal basis for $$\\mathbb R^3.$$"
   ]
  },
  {
   "cell_type": "code",
   "execution_count": 55,
   "metadata": {},
   "outputs": [],
   "source": [
    "# BEGIN SOLUTION\n",
    "u_1 = np.array([1, 1, 0]) / np.sqrt(2)\n",
    "u_2 = np.array([-1, 1, 0]) / np.sqrt(2)\n",
    "u_3 = np.array([0, 0, 1])\n",
    "# END SOLUTION"
   ]
  },
  {
   "cell_type": "markdown",
   "metadata": {},
   "source": [
    "**Problem 02.** Let $\\vec x = (2, 5, -4)^T$. What are the coordinates of $\\vec x$ with respect to the basis $\\mathcal U$?"
   ]
  },
  {
   "cell_type": "code",
   "execution_count": 62,
   "metadata": {},
   "outputs": [
    {
     "data": {
      "text/plain": [
       "array([ 4.94974747,  2.12132034, -4.        ])"
      ]
     },
     "execution_count": 62,
     "metadata": {},
     "output_type": "execute_result"
    }
   ],
   "source": [
    "# BEGIN SOLUTION\n",
    "# sometimes we can get away with not creating a numpy array to represent a vector. Here, x is a tuple.\n",
    "# when numpy sees x @ u_1, knowing that u_1 is a numpy array, it \"coerces\" x into a numpy array\n",
    "x = (2, 5, -4)\n",
    "np.array([\n",
    "    x @ u_1,\n",
    "    x @ u_2,\n",
    "    x @ u_3\n",
    "])\n",
    "# END SOLUTION"
   ]
  },
  {
   "cell_type": "markdown",
   "metadata": {},
   "source": [
    "**Problem 03.** Define a matrix $A$ such that $A$ performs the change of basis above. That is: $[\\vec x]_\\mathcal{U} = A \\vec x$"
   ]
  },
  {
   "cell_type": "code",
   "execution_count": 66,
   "metadata": {},
   "outputs": [
    {
     "data": {
      "text/plain": [
       "array([ 4.94974747,  2.12132034, -4.        ])"
      ]
     },
     "execution_count": 66,
     "metadata": {},
     "output_type": "execute_result"
    }
   ],
   "source": [
    "# BEGIN SOLUTION\n",
    "A = np.array([\n",
    "    u_1,\n",
    "    u_2,\n",
    "    u_3\n",
    "])\n",
    "x_u = A @ x\n",
    "x_u\n",
    "# END SOLUTION"
   ]
  },
  {
   "cell_type": "markdown",
   "metadata": {},
   "source": [
    "**Problem 04**. Show that $A^T [\\vec x]_\\mathcal{U} = \\vec x$ by computing $A^T [\\vec x]_\\mathcal{U}$."
   ]
  },
  {
   "cell_type": "code",
   "execution_count": 74,
   "metadata": {},
   "outputs": [
    {
     "data": {
      "text/plain": [
       "array([ 2.,  5., -4.])"
      ]
     },
     "execution_count": 74,
     "metadata": {},
     "output_type": "execute_result"
    }
   ],
   "source": [
    "# BEGIN SOLUTION\n",
    "A.T @ x_u\n",
    "# END SOLUTION"
   ]
  },
  {
   "cell_type": "markdown",
   "metadata": {},
   "source": [
    "**Problem 05.** Using a function from `np.linalg`, compute $A^{-1}$. Compare this to $A.T$."
   ]
  },
  {
   "cell_type": "code",
   "execution_count": 75,
   "metadata": {},
   "outputs": [
    {
     "name": "stdout",
     "output_type": "stream",
     "text": [
      "[[ 0.70710678 -0.70710678  0.        ]\n",
      " [ 0.70710678  0.70710678  0.        ]\n",
      " [ 0.          0.          1.        ]]\n",
      "[[ 0.70710678 -0.70710678  0.        ]\n",
      " [ 0.70710678  0.70710678  0.        ]\n",
      " [ 0.          0.          1.        ]]\n",
      "They are the same.\n"
     ]
    }
   ],
   "source": [
    "# BEGIN SOLUTION\n",
    "print(np.linalg.inv(A))\n",
    "print(A.T)\n",
    "print(\"They are the same.\")\n",
    "# END SOLUTION"
   ]
  },
  {
   "cell_type": "markdown",
   "metadata": {},
   "source": [
    "## Part 3. Linear Transformations\n",
    "\n",
    "Consider the linear transformation $\\vec f(\\vec x) : \\mathbb R^2 \\to \\mathbb R^2$ which takes a vector and mirrors it over the line that makes a 45 degree angle with the $x$-axis. For example:"
   ]
  },
  {
   "attachments": {
    "image-2.png": {
     "image/png": "[encoded data removed]"
    }
   },
   "cell_type": "markdown",
   "metadata": {},
   "source": [
    "<div>\n",
    "<img src=\"attachment:image-2.png\" width=\"500\"/>\n",
    "</div>"
   ]
  },
  {
   "cell_type": "markdown",
   "metadata": {},
   "source": [
    "**Question 01**. Write the matrix describing this linear transformation with respect to the standard basis."
   ]
  },
  {
   "cell_type": "code",
   "execution_count": 84,
   "metadata": {},
   "outputs": [],
   "source": [
    "# BEGIN SOLUTION\n",
    "A = np.array([\n",
    "    [0, 1],\n",
    "    [1, 0]\n",
    "])\n",
    "# END SOLUTION"
   ]
  },
  {
   "cell_type": "markdown",
   "metadata": {},
   "source": [
    "**Question 02**. Show (by computing it) that $A^2 = I$, where $I$ is the identity matrix. Explain in words why this is."
   ]
  },
  {
   "cell_type": "code",
   "execution_count": 99,
   "metadata": {},
   "outputs": [
    {
     "name": "stdout",
     "output_type": "stream",
     "text": [
      "[[1 0]\n",
      " [0 1]]\n",
      "A^2, in words, mirrors a vector over the gray line twice.\n",
      "The mirror image of a mirror image is the original image; that is,\n",
      "mirroring the vector twice should give us the original vector. So \n",
      "A^2 x should just be x, and so A^2 should just be the identity matrix.\n"
     ]
    }
   ],
   "source": [
    "# BEGIN SOLUTION\n",
    "print(A @ A)\n",
    "print(\n",
    "    \"A^2, in words, mirrors a vector over the gray line twice.\\n\"\n",
    "    \"The mirror image of a mirror image is the original image; that is,\\n\"\n",
    "    \"mirroring the vector twice should give us the original vector. So \\n\"\n",
    "    \"A^2 x should just be x, and so A^2 should just be the identity matrix.\"\n",
    ")\n",
    "# END SOLUTION"
   ]
  },
  {
   "cell_type": "markdown",
   "metadata": {},
   "source": [
    "**Question 03**. Show (by computing it) that $A = A^{-1}$"
   ]
  },
  {
   "cell_type": "code",
   "execution_count": 103,
   "metadata": {},
   "outputs": [
    {
     "name": "stdout",
     "output_type": "stream",
     "text": [
      "[[0. 1.]\n",
      " [1. 0.]]\n"
     ]
    }
   ],
   "source": [
    "# BEGIN SOLUTION\n",
    "print(np.linalg.inv(A))\n",
    "# END SOLUTION"
   ]
  },
  {
   "cell_type": "markdown",
   "metadata": {},
   "source": [
    "## Part 4. Eigenvectors"
   ]
  },
  {
   "cell_type": "markdown",
   "metadata": {},
   "source": [
    "**Question 01**. Without computing them, what the eigenvectors and eigenvalues of the matrix $A$ you computed above?"
   ]
  },
  {
   "cell_type": "code",
   "execution_count": 109,
   "metadata": {},
   "outputs": [
    {
     "name": "stdout",
     "output_type": "stream",
     "text": [
      "The eigenvectors of the matrix are the vectors which are largely 'left\n",
      "alone' by the transformation, in the sense that they are only scaled\n",
      "(by a possibly negative number). For this transformation, one\n",
      "eigenvector will lie along the gray line. It will be completely left\n",
      "alone by the transformation, and will not be scaled by the\n",
      "transformation. As such, it will have eigenvalue 1. Another\n",
      "eigenvector will be orthogonal to the gray line. The transformation\n",
      "will flip it over the gray line in exactly the opposite direction, and\n",
      "so it will have eigenvalue -1.\n"
     ]
    }
   ],
   "source": [
    "# BEGIN SOLUTION\n",
    "from textwrap import wrap\n",
    "s = (\n",
    "    \"The eigenvectors of the matrix are the vectors which are largely 'left alone' by the \"\n",
    "    \"transformation, in the sense that they are only scaled (by a possibly negative number). \"\n",
    "    \"For this transformation, one eigenvector will lie along the gray line. It will be \"\n",
    "    \"completely left alone by the transformation, and will not be scaled by the transformation. \"\n",
    "    \"As such, it will have eigenvalue 1. Another eigenvector will be orthogonal to the gray line. \"\n",
    "    \"The transformation will flip it over the gray line in exactly the opposite direction, and so \"\n",
    "    \"it will have eigenvalue -1.\"\n",
    ")\n",
    "print('\\n'.join(wrap(s)))\n",
    "# END SOLUTION"
   ]
  },
  {
   "cell_type": "markdown",
   "metadata": {},
   "source": [
    "**Question 02**. `np.linalg.eigh` can be used to compute the eigenvectors of a *symmetric* matrix. Read its [documentation](https://numpy.org/doc/stable/reference/generated/numpy.linalg.eigh.html#numpy.linalg.eigh), and use it to compute the eigenvectors.\n",
    "\n",
    "The eigenvectors are returned as a matrix. Are the rows the eigenvectors, or the columns?"
   ]
  },
  {
   "cell_type": "code",
   "execution_count": 111,
   "metadata": {},
   "outputs": [
    {
     "data": {
      "text/plain": [
       "(array([-1.,  1.]),\n",
       " array([[-0.70710678,  0.70710678],\n",
       "        [ 0.70710678,  0.70710678]]))"
      ]
     },
     "execution_count": 111,
     "metadata": {},
     "output_type": "execute_result"
    }
   ],
   "source": [
    "# BEGIN SOLUTION\n",
    "np.linalg.eigh(A)\n",
    "# END SOLUTION"
   ]
  }
 ],
 "metadata": {
  "kernelspec": {
   "display_name": "Python 3 (ipykernel)",
   "language": "python",
   "name": "python3"
  },
  "language_info": {
   "codemirror_mode": {
    "name": "ipython",
    "version": 3
   },
   "file_extension": ".py",
   "mimetype": "text/x-python",
   "name": "python",
   "nbconvert_exporter": "python",
   "pygments_lexer": "ipython3",
   "version": "3.9.11"
  }
 },
 "nbformat": 4,
 "nbformat_minor": 4
}
