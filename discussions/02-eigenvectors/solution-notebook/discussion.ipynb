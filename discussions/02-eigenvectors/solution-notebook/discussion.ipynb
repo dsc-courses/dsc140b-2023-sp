{
 "cells": [
  {
   "cell_type": "markdown",
   "metadata": {},
   "source": [
    "# Discussion 02"
   ]
  },
  {
   "cell_type": "markdown",
   "metadata": {},
   "source": [
    "Welcome to Discussion 02. In this discussion, we'll get more practice with eigenvectors and eigenvalues."
   ]
  },
  {
   "cell_type": "code",
   "execution_count": null,
   "metadata": {},
   "outputs": [],
   "source": [
    "import numpy as np\n",
    "import sklearn.datasets\n",
    "import matplotlib.pyplot as plt"
   ]
  },
  {
   "cell_type": "markdown",
   "metadata": {},
   "source": [
    "## Part 1. Solving equations numerically\n",
    "\n",
    "In your homework, you'll encounter an equation whose roots we want to find, but which are difficult to find by hand. No worries: in many cases, we can solve equations using numerical methods."
   ]
  },
  {
   "cell_type": "markdown",
   "metadata": {},
   "source": [
    "**Problem 01**. Consider the function $$f(x) = 4x^2 + 15x + 10.$$ Solve $f(x) = 0$ for $x$.\n",
    "\n",
    "*Note*: there are two solutions, both given by the quadratic formula."
   ]
  },
  {
   "cell_type": "code",
   "execution_count": null,
   "metadata": {},
   "outputs": [],
   "source": [
    "# BEGIN SOLUTION\n",
    "a, b, c = 4, 15, 10\n",
    "r1 = (-b + np.sqrt(b**2 - 4 * a * c)) / (2 * a)\n",
    "r2 = (-b - np.sqrt(b**2 - 4 * a * c)) / (2 * a)\n",
    "print(r1, r2)\n",
    "# END SOLUTION"
   ]
  },
  {
   "cell_type": "markdown",
   "metadata": {},
   "source": [
    "**Problem 02.** Read the documentation for `scipy.optimize.fsolve` below. Use it to find a root of $f(x)$"
   ]
  },
  {
   "cell_type": "code",
   "execution_count": 1,
   "metadata": {},
   "outputs": [],
   "source": [
    "import scipy.optimize\n",
    "# uncomment the below to see the docs\n",
    "# help(scipy.optimize.fsolve)"
   ]
  },
  {
   "cell_type": "code",
   "execution_count": null,
   "metadata": {},
   "outputs": [],
   "source": [
    "# BEGIN SOLUTION\n",
    "def f(x):\n",
    "    return 4*x**2 + 15*x + 10\n",
    "\n",
    "scipy.optimize.fsolve(f, 2)\n",
    "# END SOLUTION"
   ]
  },
  {
   "cell_type": "markdown",
   "metadata": {},
   "source": [
    "**Problem 03.** `scipy.optimize.fsolve` uses an iterative procedure to find a root of the function it is provided at input. It doesn't know much about the function being optimized -- for example, it doesn't know that it has two roots. In fact, the root that it returns will depend on the starting estimate you provided for the `x0` argument.\n",
    "\n",
    "Using a different value for `x0`, use `scipy.optimize.fsolve` to find the other root."
   ]
  },
  {
   "cell_type": "code",
   "execution_count": null,
   "metadata": {},
   "outputs": [],
   "source": [
    "# BEGIN SOLUTION\n",
    "def f(x):\n",
    "    return 4*x**2 + 15*x + 10\n",
    "\n",
    "scipy.optimize.fsolve(f, -10)\n",
    "# END SOLUTION"
   ]
  },
  {
   "cell_type": "markdown",
   "metadata": {},
   "source": [
    "**Problem 04.** Consider the function $$g(x) = \\frac{1}{x^2 + 5} + x^3 - \\frac{x^4}{4} + 2$$ The roots of $g$ cannot be found \"by hand\". Instead, we must rely on a numerical approach to approximate them.\n",
    "\n",
    "Start by plotting $g$; this helps us get a sense of where the roots are, enabling us to make good guesses for `x0` in `scipy.optimize.fsolve`.\n",
    "\n",
    "*Hint*: you can use `plt.axhline(y)` to plot a horizontal line."
   ]
  },
  {
   "cell_type": "code",
   "execution_count": null,
   "metadata": {},
   "outputs": [],
   "source": [
    "# BEGIN SOLUTION\n",
    "def g(x):\n",
    "    return 1/(x**2 + 5) + x**3 - .25*x**4 + 2\n",
    "\n",
    "xx = np.linspace(-2, 5, 100)\n",
    "yy = g(xx)\n",
    "\n",
    "plt.plot(xx, yy)\n",
    "plt.axhline(0, color='black', linestyle='--')\n",
    "# END SOLUTION"
   ]
  },
  {
   "cell_type": "markdown",
   "metadata": {},
   "source": [
    "**Problem 05.** Using `scipy.optimize.fsolve`, find two roots of $g$."
   ]
  },
  {
   "cell_type": "code",
   "execution_count": null,
   "metadata": {},
   "outputs": [],
   "source": [
    "# BEGIN SOLUTION\n",
    "print(scipy.optimize.fsolve(g, -3))\n",
    "print(scipy.optimize.fsolve(g, 5))\n",
    "# END SOLUTION"
   ]
  },
  {
   "cell_type": "markdown",
   "metadata": {},
   "source": [
    "## Part 2. Changing Basis"
   ]
  },
  {
   "cell_type": "markdown",
   "metadata": {},
   "source": [
    "**Problem 01.** Consider the array `U` below:"
   ]
  },
  {
   "cell_type": "code",
   "execution_count": null,
   "metadata": {},
   "outputs": [],
   "source": [
    "U = np.array([\n",
    "    [ 0.50195817,  0.82193622,  0.26918182],\n",
    "    [-0.7597616 ,  0.56776269, -0.31687196],\n",
    "    [ 0.41327994,  0.04545754, -0.90946869]\n",
    "])"
   ]
  },
  {
   "cell_type": "markdown",
   "metadata": {},
   "source": [
    "Let the *columns* of $U$ be the basis vectors $\\hat u^{(1)}, \\hat u^{(2)}, \\hat u^{(3)}$ of an orthonormal basis $\\mathcal{U}$ for $\\mathbb R^3$.\n",
    "\n",
    "With one matrix multiplication, verify that the columns of $U$ form an orthonormal set of vectors."
   ]
  },
  {
   "cell_type": "code",
   "execution_count": null,
   "metadata": {},
   "outputs": [],
   "source": [
    "# BEGIN SOLUTION\n",
    "# entry (i, j) of the below matrix will be u^(i) @ u^(j)\n",
    "# the basis will be orthonormal if U.T @ U is the identity matrix\n",
    "U.T @ U\n",
    "# END SOLUTION"
   ]
  },
  {
   "cell_type": "markdown",
   "metadata": {},
   "source": [
    "**Problem 02.** Consider the matrix `A` shown below:"
   ]
  },
  {
   "cell_type": "code",
   "execution_count": null,
   "metadata": {},
   "outputs": [],
   "source": [
    "A = np.array([\n",
    "    [3, 4, 2],\n",
    "    [-1, -2, 2],\n",
    "    [-5, 2, 4]\n",
    "])"
   ]
  },
  {
   "cell_type": "markdown",
   "metadata": {},
   "source": [
    "This matrix represents a linear transformation $\\vec f$ with respect to the *standard* basis. That is, its columns are $f(\\hat e^{(1)}), f(\\hat e^{(2)}), f(\\hat e^{(3)})$.\n",
    "\n",
    "Find the matrix whose columns are $f(\\hat u^{(1)}), f(\\hat u^{(2)}), f(\\hat u^{(3)})$, expressed as coordinate vectors in the standard basis.\n",
    "\n",
    "*Hint*: this can be done with a single matrix multiplication. Remember that $\\vec f(\\vec x) = A \\vec x$"
   ]
  },
  {
   "cell_type": "code",
   "execution_count": null,
   "metadata": {},
   "outputs": [],
   "source": [
    "# BEGIN SOLUTION\n",
    "A @ U\n",
    "# END SOLUTION"
   ]
  },
  {
   "cell_type": "markdown",
   "metadata": {},
   "source": [
    "**Problem 03.** Find $A_{\\mathcal U}$; that is, the matrix representing $A$ in the basis $\\mathcal U$.\n",
    "\n",
    "*Hint*: again, this can be done with a single matrix multiplication -- that is, by multiplying some matrix by what you found in the previous problem."
   ]
  },
  {
   "cell_type": "code",
   "execution_count": null,
   "metadata": {},
   "outputs": [],
   "source": [
    "# BEGIN SOLUTION\n",
    "U.T @ A @ U\n",
    "# END SOLUTION"
   ]
  },
  {
   "cell_type": "markdown",
   "metadata": {},
   "source": [
    "## Part 3. Diagonalization"
   ]
  },
  {
   "cell_type": "markdown",
   "metadata": {},
   "source": [
    "**Problem 01.** Consider the symmetric matrix $A$ shown below:"
   ]
  },
  {
   "cell_type": "code",
   "execution_count": null,
   "metadata": {},
   "outputs": [],
   "source": [
    "A = np.array([\n",
    "    [3, 2, 1],\n",
    "    [2, 5, 4],\n",
    "    [1, 4, 6]\n",
    "])"
   ]
  },
  {
   "cell_type": "markdown",
   "metadata": {},
   "source": [
    "Find the eigenvalues and eigenvectors of $A$."
   ]
  },
  {
   "cell_type": "code",
   "execution_count": null,
   "metadata": {},
   "outputs": [],
   "source": [
    "# BEGIN SOLUTION\n",
    "lambda_, U = np.linalg.eigh(A)\n",
    "# END SOLUTION"
   ]
  },
  {
   "cell_type": "markdown",
   "metadata": {},
   "source": [
    "**Problem 02.** Consider the basis made up of eigenvectors of $A$. Find the representation of the matrix $A$ with respect to this eigenbasis. Do the diagonal entries of this matrix look familiar?"
   ]
  },
  {
   "cell_type": "code",
   "execution_count": null,
   "metadata": {},
   "outputs": [],
   "source": [
    "# BEGIN SOLUTION\n",
    "print(U.T @ A @ U)\n",
    "print(\"This is a diagonal matrix, whose diagonal entries are the eigenvalues of A.\")\n",
    "# END SOLUTION"
   ]
  }
 ],
 "metadata": {
  "kernelspec": {
   "display_name": "Python 3 (ipykernel)",
   "language": "python",
   "name": "python3"
  },
  "language_info": {
   "codemirror_mode": {
    "name": "ipython",
    "version": 3
   },
   "file_extension": ".py",
   "mimetype": "text/x-python",
   "name": "python",
   "nbconvert_exporter": "python",
   "pygments_lexer": "ipython3",
   "version": "3.9.11"
  }
 },
 "nbformat": 4,
 "nbformat_minor": 4
}
